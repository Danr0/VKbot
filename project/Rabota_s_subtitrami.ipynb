{
 "cells": [
  {
   "cell_type": "markdown",
   "metadata": {},
   "source": [
    "# Библиотеки"
   ]
  },
  {
   "cell_type": "code",
   "execution_count": 1,
   "metadata": {},
   "outputs": [],
   "source": [
    "import pandas as pd\n",
    "import numpy as np"
   ]
  },
  {
   "cell_type": "code",
   "execution_count": 2,
   "metadata": {},
   "outputs": [],
   "source": [
    "import pymorphy2\n",
    "import string"
   ]
  },
  {
   "cell_type": "code",
   "execution_count": 3,
   "metadata": {},
   "outputs": [],
   "source": [
    "import re\n",
    "import requests"
   ]
  },
  {
   "cell_type": "code",
   "execution_count": 4,
   "metadata": {},
   "outputs": [],
   "source": [
    "from collections import Counter"
   ]
  },
  {
   "cell_type": "code",
   "execution_count": 5,
   "metadata": {},
   "outputs": [],
   "source": [
    "import xml.etree.ElementTree as ET"
   ]
  },
  {
   "cell_type": "code",
   "execution_count": 6,
   "metadata": {},
   "outputs": [],
   "source": [
    "from lxml import etree\n",
    "from io import StringIO, BytesIO"
   ]
  },
  {
   "cell_type": "code",
   "execution_count": 7,
   "metadata": {},
   "outputs": [],
   "source": [
    "from bs4 import BeautifulSoup"
   ]
  },
  {
   "cell_type": "markdown",
   "metadata": {},
   "source": [
    "# СУБТИТРЫ"
   ]
  },
  {
   "cell_type": "markdown",
   "metadata": {},
   "source": [
    "# Функция нормализации фраз\n",
    "### Все слова преобразует в начальную форму, удаляет служебные части речи (предлоги, союзы, частицы)"
   ]
  },
  {
   "cell_type": "code",
   "execution_count": 8,
   "metadata": {},
   "outputs": [],
   "source": [
    "morph = pymorphy2.MorphAnalyzer()\n",
    "\n",
    "def norm_form(x):\n",
    "    x = x.split()\n",
    "    i = 0\n",
    "    while i < len(x):\n",
    "        p = morph.parse(x[i])[0]\n",
    "        x[i] = p.normal_form\n",
    "        if p.tag.POS in ['PREP', 'CONJ', 'PRCL'] or x[i].isdigit():\n",
    "            x.pop(i)\n",
    "            continue\n",
    "        i += 1\n",
    "    x = \" \".join(x)\n",
    "    return x\n",
    "\n",
    "norm_form_vectorize = np.vectorize(norm_form)"
   ]
  },
  {
   "cell_type": "markdown",
   "metadata": {},
   "source": [
    "# Функция для обработки файла с субтитрами\n",
    "### Возвращает список фраз из субтитров"
   ]
  },
  {
   "cell_type": "code",
   "execution_count": 9,
   "metadata": {},
   "outputs": [],
   "source": [
    "def sub_analizer(filename):\n",
    "    text = []\n",
    "#    translator = str.maketrans('', '', string.punctuation)\n",
    "    with open(filename, mode='r', encoding='utf-8-sig') as f:\n",
    "        for line in f:\n",
    "#            phrase = []\n",
    "#            for word in line.split():\n",
    "#                true_word = word.translate(translator).lower()\n",
    "#                if true_word == \"\":\n",
    "#                    continue\n",
    "#                phrase.append(true_word)\n",
    "#            if \"\".join(phrase) == \"\":\n",
    "#                    continue\n",
    "            phrase = line.split()\n",
    "            if \" \".join(phrase) == \"\":\n",
    "                continue\n",
    "            text.append(\" \".join(phrase))\n",
    "    return text"
   ]
  },
  {
   "cell_type": "markdown",
   "metadata": {},
   "source": [
    "# Функция для объединения субтитров из нескольких фильмов\n",
    "### Принимает список названий файлов с субтитрами для разных фильмов\n",
    "### Возвращает словарь из названий фильмов, обычных и нормализованных фраз"
   ]
  },
  {
   "cell_type": "code",
   "execution_count": 10,
   "metadata": {},
   "outputs": [],
   "source": [
    "def sub_text_movies(filenames):\n",
    "    phrases = []\n",
    "    list_filenames = []\n",
    "    pattern = r'''(?:Films/)(.*)(?:(\\.txt))'''\n",
    "    for filename in filenames:\n",
    "        some_phrases = sub_analizer(filename)\n",
    "        phrases += some_phrases\n",
    "        for i in range(len(some_phrases)):\n",
    "            true_filename = re.findall(pattern, filename)[0][0]\n",
    "            list_filenames.append(true_filename) \n",
    "#    norm_phrases = norm_form_vectorize(phrases)\n",
    "#    dict_phrases = {\"sources\": list_filenames, \"phrases\": phrases, \"norm_phrases\": norm_phrases}\n",
    "    dict_phrases = {\"sources\": list_filenames, \"phrases\": phrases}\n",
    "    return dict_phrases"
   ]
  },
  {
   "cell_type": "markdown",
   "metadata": {},
   "source": [
    "# Doing"
   ]
  },
  {
   "cell_type": "markdown",
   "metadata": {},
   "source": [
    "### Список путей к файлам с субтитрами"
   ]
  },
  {
   "cell_type": "code",
   "execution_count": 11,
   "metadata": {},
   "outputs": [],
   "source": [
    "path = \"Films/\"\n",
    "filenames = [\"Анон.txt\", \n",
    "             \"Джобс Империя соблазна.txt\", \n",
    "             \"Железный человек.txt\", \n",
    "             \"Кибер.txt\", \n",
    "             \"Крепкий орешек 4.txt\", \n",
    "             \"Кто я.txt\", \n",
    "             \"На крючке.txt\", \n",
    "             \"Призрак в доспехах.txt\", \n",
    "             \"Сноуден.txt\", \n",
    "             \"Социальная сеть.txt\"]\n",
    "filenames = [path + filename for filename in filenames]"
   ]
  },
  {
   "cell_type": "markdown",
   "metadata": {},
   "source": [
    "### Датафрейм с субтитрами"
   ]
  },
  {
   "cell_type": "code",
   "execution_count": 12,
   "metadata": {},
   "outputs": [],
   "source": [
    "dict_phrases = sub_text_movies(filenames)\n",
    "df_subs = pd.DataFrame(dict_phrases)"
   ]
  },
  {
   "cell_type": "code",
   "execution_count": 13,
   "metadata": {},
   "outputs": [
    {
     "data": {
      "text/html": [
       "<div>\n",
       "<style scoped>\n",
       "    .dataframe tbody tr th:only-of-type {\n",
       "        vertical-align: middle;\n",
       "    }\n",
       "\n",
       "    .dataframe tbody tr th {\n",
       "        vertical-align: top;\n",
       "    }\n",
       "\n",
       "    .dataframe thead th {\n",
       "        text-align: right;\n",
       "    }\n",
       "</style>\n",
       "<table border=\"1\" class=\"dataframe\">\n",
       "  <thead>\n",
       "    <tr style=\"text-align: right;\">\n",
       "      <th></th>\n",
       "      <th>sources</th>\n",
       "      <th>phrases</th>\n",
       "    </tr>\n",
       "  </thead>\n",
       "  <tbody>\n",
       "    <tr>\n",
       "      <th>0</th>\n",
       "      <td>Анон</td>\n",
       "      <td>Довольно, всё, мечтаю я забиться</td>\n",
       "    </tr>\n",
       "    <tr>\n",
       "      <th>1</th>\n",
       "      <td>Анон</td>\n",
       "      <td>В уединённый, тёмный уголок,</td>\n",
       "    </tr>\n",
       "    <tr>\n",
       "      <th>2</th>\n",
       "      <td>Анон</td>\n",
       "      <td>И сам Господь пусть обо мне забудет.</td>\n",
       "    </tr>\n",
       "    <tr>\n",
       "      <th>3</th>\n",
       "      <td>Анон</td>\n",
       "      <td>Роберт Браунинг «Парацельс» (1835)</td>\n",
       "    </tr>\n",
       "    <tr>\n",
       "      <th>4</th>\n",
       "      <td>Анон</td>\n",
       "      <td>Аня Майер, 34</td>\n",
       "    </tr>\n",
       "  </tbody>\n",
       "</table>\n",
       "</div>"
      ],
      "text/plain": [
       "  sources                               phrases\n",
       "0    Анон      Довольно, всё, мечтаю я забиться\n",
       "1    Анон          В уединённый, тёмный уголок,\n",
       "2    Анон  И сам Господь пусть обо мне забудет.\n",
       "3    Анон    Роберт Браунинг «Парацельс» (1835)\n",
       "4    Анон                         Аня Майер, 34"
      ]
     },
     "execution_count": 13,
     "metadata": {},
     "output_type": "execute_result"
    }
   ],
   "source": [
    "df_subs.head()"
   ]
  },
  {
   "cell_type": "markdown",
   "metadata": {},
   "source": [
    "# Сохраним субтитры в csv"
   ]
  },
  {
   "cell_type": "code",
   "execution_count": 14,
   "metadata": {},
   "outputs": [],
   "source": [
    "pd.DataFrame({'sources': df_subs.sources, \n",
    "              'phrases': df_subs.phrases}).to_csv('subs.csv', index=None)"
   ]
  },
  {
   "cell_type": "markdown",
   "metadata": {},
   "source": [
    "# Загрузим субтитры"
   ]
  },
  {
   "cell_type": "code",
   "execution_count": 15,
   "metadata": {},
   "outputs": [],
   "source": [
    "df_subs = pd.read_csv('subs.csv')"
   ]
  },
  {
   "cell_type": "code",
   "execution_count": 16,
   "metadata": {},
   "outputs": [
    {
     "data": {
      "text/html": [
       "<div>\n",
       "<style scoped>\n",
       "    .dataframe tbody tr th:only-of-type {\n",
       "        vertical-align: middle;\n",
       "    }\n",
       "\n",
       "    .dataframe tbody tr th {\n",
       "        vertical-align: top;\n",
       "    }\n",
       "\n",
       "    .dataframe thead th {\n",
       "        text-align: right;\n",
       "    }\n",
       "</style>\n",
       "<table border=\"1\" class=\"dataframe\">\n",
       "  <thead>\n",
       "    <tr style=\"text-align: right;\">\n",
       "      <th></th>\n",
       "      <th>sources</th>\n",
       "      <th>phrases</th>\n",
       "    </tr>\n",
       "  </thead>\n",
       "  <tbody>\n",
       "    <tr>\n",
       "      <th>0</th>\n",
       "      <td>Анон</td>\n",
       "      <td>Довольно, всё, мечтаю я забиться</td>\n",
       "    </tr>\n",
       "    <tr>\n",
       "      <th>1</th>\n",
       "      <td>Анон</td>\n",
       "      <td>В уединённый, тёмный уголок,</td>\n",
       "    </tr>\n",
       "    <tr>\n",
       "      <th>2</th>\n",
       "      <td>Анон</td>\n",
       "      <td>И сам Господь пусть обо мне забудет.</td>\n",
       "    </tr>\n",
       "    <tr>\n",
       "      <th>3</th>\n",
       "      <td>Анон</td>\n",
       "      <td>Роберт Браунинг «Парацельс» (1835)</td>\n",
       "    </tr>\n",
       "    <tr>\n",
       "      <th>4</th>\n",
       "      <td>Анон</td>\n",
       "      <td>Аня Майер, 34</td>\n",
       "    </tr>\n",
       "  </tbody>\n",
       "</table>\n",
       "</div>"
      ],
      "text/plain": [
       "  sources                               phrases\n",
       "0    Анон      Довольно, всё, мечтаю я забиться\n",
       "1    Анон          В уединённый, тёмный уголок,\n",
       "2    Анон  И сам Господь пусть обо мне забудет.\n",
       "3    Анон    Роберт Браунинг «Парацельс» (1835)\n",
       "4    Анон                         Аня Майер, 34"
      ]
     },
     "execution_count": 16,
     "metadata": {},
     "output_type": "execute_result"
    }
   ],
   "source": [
    "df_subs.head()"
   ]
  },
  {
   "cell_type": "markdown",
   "metadata": {},
   "source": [
    "# ИМПОРТ СО STACKOVERFLOW"
   ]
  },
  {
   "cell_type": "markdown",
   "metadata": {},
   "source": [
    "# Функции для обработки дампа Stackoverflow"
   ]
  },
  {
   "cell_type": "markdown",
   "metadata": {},
   "source": [
    "# Функция извлечения title'ов и tag'ов из дампа\n",
    "### Принимает дамп, возвращает список из списка title'ов и списка tag'ов"
   ]
  },
  {
   "cell_type": "code",
   "execution_count": 17,
   "metadata": {},
   "outputs": [],
   "source": [
    "def stack_extract_titles_and_tags(filename):\n",
    "    tree = ET.parse(filename)\n",
    "    root = tree.getroot()\n",
    "    titles = []\n",
    "    tags = []\n",
    "    for i in root:\n",
    "        if i.attrib[\"PostTypeId\"] == '1':\n",
    "            tags.append(i.attrib[\"Tags\"][1:-1].split(\"><\"))\n",
    "            titles.append(i.attrib[\"Title\"])\n",
    "    titles_and_tags = [titles, tags]\n",
    "    return titles_and_tags"
   ]
  },
  {
   "cell_type": "markdown",
   "metadata": {},
   "source": [
    "# Функция извлечения данных и дампа Stackoverflow (вопросы, ответы)"
   ]
  },
  {
   "cell_type": "code",
   "execution_count": 18,
   "metadata": {},
   "outputs": [],
   "source": [
    "def stack_extract_data(filename):\n",
    "    tree = ET.parse(filename)\n",
    "    root = tree.getroot()\n",
    "    ids_questions = []\n",
    "    ids_accepted_answer = []\n",
    "    ids_answers = []\n",
    "    ids_parent = []\n",
    "    titles = []\n",
    "    answers = []\n",
    "    tags = []\n",
    "    for i in root:\n",
    "        if i.attrib[\"PostTypeId\"] == '1':\n",
    "            ids_questions.append(i.attrib[\"Id\"])\n",
    "            if i.attrib.get(\"AcceptedAnswerId\"):\n",
    "                ids_accepted_answer.append(i.attrib[\"AcceptedAnswerId\"])\n",
    "            else:\n",
    "                ids_accepted_answer.append(-1)\n",
    "            tags.append(i.attrib[\"Tags\"][1:-1].split(\"><\"))\n",
    "            titles.append(i.attrib[\"Title\"])\n",
    "        if i.attrib[\"PostTypeId\"] == '2':\n",
    "            ids_answers.append(i.attrib[\"Id\"])\n",
    "            ids_parent.append(i.attrib[\"ParentId\"])\n",
    "            answers.append(BeautifulSoup(i.attrib[\"Body\"], \"lxml\").text)\n",
    "    tags = most_common_tags(tags)\n",
    "    questions = {\"ids_questions\": ids_questions, \n",
    "                 \"ids_accepted_answer\": ids_accepted_answer, \n",
    "                 \"titles\": titles, \n",
    "                 \"tags\": tags}\n",
    "    answers = {\"ids_answers\": ids_answers, \n",
    "               \"ids_parent\": ids_parent, \n",
    "               \"answers\": answers}\n",
    "    stack_data = {\"questions\": questions, \n",
    "                  \"answers\": answers}\n",
    "    return stack_data"
   ]
  },
  {
   "cell_type": "markdown",
   "metadata": {},
   "source": [
    "# Функция обработки тегов\n",
    "### Принимает список из списка тегов, возвращает список тегов для каждого поста\n",
    "### Были найденны 10 самых часто встречающихся тегов (это значение можно менять)\n",
    "### Было оставлено по одному тегу (самый часто встречающийся) для каждого поста\n",
    "### Возвращает список из этих тегов"
   ]
  },
  {
   "cell_type": "code",
   "execution_count": 19,
   "metadata": {},
   "outputs": [],
   "source": [
    "def most_common_tags(tags, num=10):\n",
    "    expanded_tags = []\n",
    "    for tag_line in tags:\n",
    "        for tag in tag_line:\n",
    "            expanded_tags.append(tag)\n",
    "    counter_tags = Counter(expanded_tags)\n",
    "    most_common_tags = counter_tags.most_common(num)\n",
    "    most_common_tags = [most_common_tags[i][0] for i in range(num)]\n",
    "    formated_tags = []\n",
    "    for tag in tags:\n",
    "        extra_tag = None\n",
    "        for most_common_tag in most_common_tags:\n",
    "            if most_common_tag in tag:\n",
    "                extra_tag = most_common_tag\n",
    "                break\n",
    "        if extra_tag is not None:\n",
    "            formated_tags.append(extra_tag)\n",
    "        else:\n",
    "            formated_tags.append(\"no_tag\")\n",
    "    return formated_tags"
   ]
  },
  {
   "cell_type": "markdown",
   "metadata": {},
   "source": [
    "# Doing"
   ]
  },
  {
   "cell_type": "markdown",
   "metadata": {},
   "source": [
    "### Путь к файлу с дампом Stackoverflow"
   ]
  },
  {
   "cell_type": "code",
   "execution_count": 20,
   "metadata": {},
   "outputs": [],
   "source": [
    "path = \"Dumps Stackoverflow/ru.stackoverflow.com/\"\n",
    "filename = \"Posts.xml\"\n",
    "filename = path + filename"
   ]
  },
  {
   "cell_type": "markdown",
   "metadata": {},
   "source": [
    "### Создадим словарь для последующего преобразования в датафрейм"
   ]
  },
  {
   "cell_type": "code",
   "execution_count": 21,
   "metadata": {},
   "outputs": [],
   "source": [
    "stack_data = stack_extract_data(filename)"
   ]
  },
  {
   "cell_type": "code",
   "execution_count": 22,
   "metadata": {},
   "outputs": [],
   "source": [
    "dict_stack_questions = stack_data[\"questions\"]\n",
    "dict_stack_answers = stack_data[\"answers\"]\n",
    "dict_stack_phrases = {\"sources\": [\"Stackoverflow\"] * len(dict_stack_questions[\"titles\"]), \n",
    "                      \"phrases\": dict_stack_questions[\"titles\"]}"
   ]
  },
  {
   "cell_type": "code",
   "execution_count": 23,
   "metadata": {},
   "outputs": [
    {
     "name": "stdout",
     "output_type": "stream",
     "text": [
      "Чтобы писать код, нужно подключить заголовок /linux/ashmem.h. Далее ход действий, например, следующий:\n",
      "\n",
      "\n",
      "Открыть дескриптор ASHMEM_NAME_DEF.\n",
      "Задать имя ASHMEM_SET_NAME.\n",
      "Задать размер ASHMEM_SET_SIZE.\n",
      "Отобразить память.\n",
      "Использовать память.\n",
      "Закрыть дескриптор.\n",
      "\n"
     ]
    }
   ],
   "source": [
    "print(dict_stack_answers[\"answers\"][10])"
   ]
  },
  {
   "cell_type": "markdown",
   "metadata": {},
   "source": [
    "### Создадим датафремы со Stackoverflow"
   ]
  },
  {
   "cell_type": "code",
   "execution_count": 24,
   "metadata": {},
   "outputs": [],
   "source": [
    "df_stack_phrases = pd.DataFrame(dict_stack_phrases)\n",
    "df_stack_questions = pd.DataFrame(dict_stack_questions)\n",
    "df_stack_answers = pd.DataFrame(dict_stack_answers)"
   ]
  },
  {
   "cell_type": "code",
   "execution_count": 25,
   "metadata": {},
   "outputs": [
    {
     "data": {
      "text/html": [
       "<div>\n",
       "<style scoped>\n",
       "    .dataframe tbody tr th:only-of-type {\n",
       "        vertical-align: middle;\n",
       "    }\n",
       "\n",
       "    .dataframe tbody tr th {\n",
       "        vertical-align: top;\n",
       "    }\n",
       "\n",
       "    .dataframe thead th {\n",
       "        text-align: right;\n",
       "    }\n",
       "</style>\n",
       "<table border=\"1\" class=\"dataframe\">\n",
       "  <thead>\n",
       "    <tr style=\"text-align: right;\">\n",
       "      <th></th>\n",
       "      <th>sources</th>\n",
       "      <th>phrases</th>\n",
       "    </tr>\n",
       "  </thead>\n",
       "  <tbody>\n",
       "    <tr>\n",
       "      <th>0</th>\n",
       "      <td>Stackoverflow</td>\n",
       "      <td>Как из скрипта на Питоне послать письмо с влож...</td>\n",
       "    </tr>\n",
       "    <tr>\n",
       "      <th>1</th>\n",
       "      <td>Stackoverflow</td>\n",
       "      <td>Как сохранить и восстановить базу данных Postg...</td>\n",
       "    </tr>\n",
       "    <tr>\n",
       "      <th>2</th>\n",
       "      <td>Stackoverflow</td>\n",
       "      <td>Как найти файл по имени в папках командой из т...</td>\n",
       "    </tr>\n",
       "    <tr>\n",
       "      <th>3</th>\n",
       "      <td>Stackoverflow</td>\n",
       "      <td>Как работать с svn через HTTP прокси на Ubuntu?</td>\n",
       "    </tr>\n",
       "    <tr>\n",
       "      <th>4</th>\n",
       "      <td>Stackoverflow</td>\n",
       "      <td>Как подсчитать строки в файле из терминала в U...</td>\n",
       "    </tr>\n",
       "  </tbody>\n",
       "</table>\n",
       "</div>"
      ],
      "text/plain": [
       "         sources                                            phrases\n",
       "0  Stackoverflow  Как из скрипта на Питоне послать письмо с влож...\n",
       "1  Stackoverflow  Как сохранить и восстановить базу данных Postg...\n",
       "2  Stackoverflow  Как найти файл по имени в папках командой из т...\n",
       "3  Stackoverflow    Как работать с svn через HTTP прокси на Ubuntu?\n",
       "4  Stackoverflow  Как подсчитать строки в файле из терминала в U..."
      ]
     },
     "execution_count": 25,
     "metadata": {},
     "output_type": "execute_result"
    }
   ],
   "source": [
    "df_stack_phrases.head()"
   ]
  },
  {
   "cell_type": "code",
   "execution_count": 12,
   "metadata": {},
   "outputs": [
    {
     "data": {
      "text/html": [
       "<div>\n",
       "<style scoped>\n",
       "    .dataframe tbody tr th:only-of-type {\n",
       "        vertical-align: middle;\n",
       "    }\n",
       "\n",
       "    .dataframe tbody tr th {\n",
       "        vertical-align: top;\n",
       "    }\n",
       "\n",
       "    .dataframe thead th {\n",
       "        text-align: right;\n",
       "    }\n",
       "</style>\n",
       "<table border=\"1\" class=\"dataframe\">\n",
       "  <thead>\n",
       "    <tr style=\"text-align: right;\">\n",
       "      <th></th>\n",
       "      <th>ids_questions</th>\n",
       "      <th>ids_accepted_answer</th>\n",
       "      <th>titles</th>\n",
       "      <th>tags</th>\n",
       "    </tr>\n",
       "  </thead>\n",
       "  <tbody>\n",
       "    <tr>\n",
       "      <th>0</th>\n",
       "      <td>1</td>\n",
       "      <td>2</td>\n",
       "      <td>Как из скрипта на Питоне послать письмо с влож...</td>\n",
       "      <td>python</td>\n",
       "    </tr>\n",
       "    <tr>\n",
       "      <th>1</th>\n",
       "      <td>3</td>\n",
       "      <td>4</td>\n",
       "      <td>Как сохранить и восстановить базу данных Postg...</td>\n",
       "      <td>no_tag</td>\n",
       "    </tr>\n",
       "    <tr>\n",
       "      <th>2</th>\n",
       "      <td>5</td>\n",
       "      <td>6</td>\n",
       "      <td>Как найти файл по имени в папках командой из т...</td>\n",
       "      <td>no_tag</td>\n",
       "    </tr>\n",
       "    <tr>\n",
       "      <th>3</th>\n",
       "      <td>7</td>\n",
       "      <td>8</td>\n",
       "      <td>Как работать с svn через HTTP прокси на Ubuntu?</td>\n",
       "      <td>no_tag</td>\n",
       "    </tr>\n",
       "    <tr>\n",
       "      <th>4</th>\n",
       "      <td>9</td>\n",
       "      <td>10</td>\n",
       "      <td>Как подсчитать строки в файле из терминала в U...</td>\n",
       "      <td>no_tag</td>\n",
       "    </tr>\n",
       "  </tbody>\n",
       "</table>\n",
       "</div>"
      ],
      "text/plain": [
       "   ids_questions  ids_accepted_answer  \\\n",
       "0              1                    2   \n",
       "1              3                    4   \n",
       "2              5                    6   \n",
       "3              7                    8   \n",
       "4              9                   10   \n",
       "\n",
       "                                              titles    tags  \n",
       "0  Как из скрипта на Питоне послать письмо с влож...  python  \n",
       "1  Как сохранить и восстановить базу данных Postg...  no_tag  \n",
       "2  Как найти файл по имени в папках командой из т...  no_tag  \n",
       "3    Как работать с svn через HTTP прокси на Ubuntu?  no_tag  \n",
       "4  Как подсчитать строки в файле из терминала в U...  no_tag  "
      ]
     },
     "execution_count": 12,
     "metadata": {},
     "output_type": "execute_result"
    }
   ],
   "source": [
    "df_stack_questions.head()"
   ]
  },
  {
   "cell_type": "code",
   "execution_count": 27,
   "metadata": {},
   "outputs": [
    {
     "data": {
      "text/html": [
       "<div>\n",
       "<style scoped>\n",
       "    .dataframe tbody tr th:only-of-type {\n",
       "        vertical-align: middle;\n",
       "    }\n",
       "\n",
       "    .dataframe tbody tr th {\n",
       "        vertical-align: top;\n",
       "    }\n",
       "\n",
       "    .dataframe thead th {\n",
       "        text-align: right;\n",
       "    }\n",
       "</style>\n",
       "<table border=\"1\" class=\"dataframe\">\n",
       "  <thead>\n",
       "    <tr style=\"text-align: right;\">\n",
       "      <th></th>\n",
       "      <th>ids_answers</th>\n",
       "      <th>ids_parent</th>\n",
       "      <th>answers</th>\n",
       "    </tr>\n",
       "  </thead>\n",
       "  <tbody>\n",
       "    <tr>\n",
       "      <th>0</th>\n",
       "      <td>2</td>\n",
       "      <td>1</td>\n",
       "      <td>from smtplib import SMTP_SSL\\nfrom email.MIMEM...</td>\n",
       "    </tr>\n",
       "    <tr>\n",
       "      <th>1</th>\n",
       "      <td>4</td>\n",
       "      <td>3</td>\n",
       "      <td>Для сохранения кластера базы данных:\\n\\npg_dum...</td>\n",
       "    </tr>\n",
       "    <tr>\n",
       "      <th>2</th>\n",
       "      <td>6</td>\n",
       "      <td>5</td>\n",
       "      <td>Для подобного поиска подходит команда find.\\n\\...</td>\n",
       "    </tr>\n",
       "    <tr>\n",
       "      <th>3</th>\n",
       "      <td>8</td>\n",
       "      <td>7</td>\n",
       "      <td>Нужно прописать параметры прокси в настройках ...</td>\n",
       "    </tr>\n",
       "    <tr>\n",
       "      <th>4</th>\n",
       "      <td>10</td>\n",
       "      <td>9</td>\n",
       "      <td>Команда wc выводит количество переводов строк,...</td>\n",
       "    </tr>\n",
       "  </tbody>\n",
       "</table>\n",
       "</div>"
      ],
      "text/plain": [
       "  ids_answers ids_parent                                            answers\n",
       "0           2          1  from smtplib import SMTP_SSL\\nfrom email.MIMEM...\n",
       "1           4          3  Для сохранения кластера базы данных:\\n\\npg_dum...\n",
       "2           6          5  Для подобного поиска подходит команда find.\\n\\...\n",
       "3           8          7  Нужно прописать параметры прокси в настройках ...\n",
       "4          10          9  Команда wc выводит количество переводов строк,..."
      ]
     },
     "execution_count": 27,
     "metadata": {},
     "output_type": "execute_result"
    }
   ],
   "source": [
    "df_stack_answers.head()"
   ]
  },
  {
   "cell_type": "code",
   "execution_count": 46,
   "metadata": {},
   "outputs": [
    {
     "name": "stdout",
     "output_type": "stream",
     "text": [
      "---\n",
      "Достаточно выполнить команды:\n",
      "$ sudo chmod -x /etc/grub.d/20_memtest86+\n",
      "$ sudo update-grub\n",
      "\n",
      "и опции исчезнут.\n",
      "---\n",
      "Еще можно так. В файле /etc/grub.d/20_memtest86+ находим строку\n",
      " if test -e /boot/memtest86+.bin ; then\n",
      "\n",
      "и в ней портим имя файла, типа   \n",
      "\n",
      " if test -e /boot/memtest86+.bin__ ; then\n",
      "\n",
      "Далее \n",
      "sudo update-grub\n",
      "\n",
      "У меня получилось.\n",
      "---\n",
      "Просто отредактируйте /boot/grub/menu.lst\n",
      "В этом текстовом файле должна быть строчка title memtest86+\n",
      "Удаляем ее и все строчки после нее до следующий строки title\n",
      "---\n",
      "Ubuntu(kubuntu,lubuntu,xubuntu) во время установки устанавливает кучу ненужных пакетов и один из них - это memtest+. Чтобы его не было в меню grub, нужно просто удалить пакет memtest+\n",
      "\n"
     ]
    }
   ],
   "source": [
    "for i in df_stack_answers[df_stack_answers[\"ids_parent\"]==200]['answers']:\n",
    "    print(\"---\")\n",
    "    print(i)"
   ]
  },
  {
   "cell_type": "code",
   "execution_count": 48,
   "metadata": {},
   "outputs": [
    {
     "name": "stdout",
     "output_type": "stream",
     "text": [
      "Чтобы писать код, нужно подключить заголовок /linux/ashmem.h. Далее ход действий, например, следующий:\n",
      "\n",
      "\n",
      "Открыть дескриптор ASHMEM_NAME_DEF.\n",
      "Задать имя ASHMEM_SET_NAME.\n",
      "Задать размер ASHMEM_SET_SIZE.\n",
      "Отобразить память.\n",
      "Использовать память.\n",
      "Закрыть дескриптор.\n",
      "\n"
     ]
    }
   ],
   "source": [
    "print(df_stack_answers[\"answers\"][10])"
   ]
  },
  {
   "cell_type": "markdown",
   "metadata": {},
   "source": [
    "# Сохраним в csv"
   ]
  },
  {
   "cell_type": "markdown",
   "metadata": {},
   "source": [
    "### Вопросы, ответы"
   ]
  },
  {
   "cell_type": "code",
   "execution_count": 28,
   "metadata": {},
   "outputs": [],
   "source": [
    "pd.DataFrame({'sources': df_stack_phrases.sources, \n",
    "              'phrases': df_stack_phrases.phrases}).to_csv('stack_phrases.csv', index=None)\n",
    "\n",
    "pd.DataFrame({'ids_questions': df_stack_questions.ids_questions, \n",
    "              'ids_accepted_answer': df_stack_questions.ids_accepted_answer,  \n",
    "              'titles': df_stack_questions.titles,\n",
    "              'tags': df_stack_questions.tags}).to_csv('stack_questions.csv', index=None)\n",
    "\n",
    "pd.DataFrame({'ids_answers': df_stack_answers.ids_answers, \n",
    "              'ids_parent': df_stack_answers.ids_parent,  \n",
    "              'answers': df_stack_answers.answers}).to_csv('stack_answers.csv', index=None)"
   ]
  },
  {
   "cell_type": "markdown",
   "metadata": {},
   "source": [
    "# Загрузим из csv"
   ]
  },
  {
   "cell_type": "code",
   "execution_count": 10,
   "metadata": {},
   "outputs": [],
   "source": [
    "df_stack_phrases = pd.read_csv('stack_phrases.csv')\n",
    "df_stack_questions = pd.read_csv('stack_questions.csv')\n",
    "df_stack_answers = pd.read_csv('stack_answers.csv')"
   ]
  },
  {
   "cell_type": "code",
   "execution_count": 30,
   "metadata": {},
   "outputs": [
    {
     "data": {
      "text/html": [
       "<div>\n",
       "<style scoped>\n",
       "    .dataframe tbody tr th:only-of-type {\n",
       "        vertical-align: middle;\n",
       "    }\n",
       "\n",
       "    .dataframe tbody tr th {\n",
       "        vertical-align: top;\n",
       "    }\n",
       "\n",
       "    .dataframe thead th {\n",
       "        text-align: right;\n",
       "    }\n",
       "</style>\n",
       "<table border=\"1\" class=\"dataframe\">\n",
       "  <thead>\n",
       "    <tr style=\"text-align: right;\">\n",
       "      <th></th>\n",
       "      <th>sources</th>\n",
       "      <th>phrases</th>\n",
       "    </tr>\n",
       "  </thead>\n",
       "  <tbody>\n",
       "    <tr>\n",
       "      <th>0</th>\n",
       "      <td>Stackoverflow</td>\n",
       "      <td>Как из скрипта на Питоне послать письмо с влож...</td>\n",
       "    </tr>\n",
       "    <tr>\n",
       "      <th>1</th>\n",
       "      <td>Stackoverflow</td>\n",
       "      <td>Как сохранить и восстановить базу данных Postg...</td>\n",
       "    </tr>\n",
       "    <tr>\n",
       "      <th>2</th>\n",
       "      <td>Stackoverflow</td>\n",
       "      <td>Как найти файл по имени в папках командой из т...</td>\n",
       "    </tr>\n",
       "    <tr>\n",
       "      <th>3</th>\n",
       "      <td>Stackoverflow</td>\n",
       "      <td>Как работать с svn через HTTP прокси на Ubuntu?</td>\n",
       "    </tr>\n",
       "    <tr>\n",
       "      <th>4</th>\n",
       "      <td>Stackoverflow</td>\n",
       "      <td>Как подсчитать строки в файле из терминала в U...</td>\n",
       "    </tr>\n",
       "  </tbody>\n",
       "</table>\n",
       "</div>"
      ],
      "text/plain": [
       "         sources                                            phrases\n",
       "0  Stackoverflow  Как из скрипта на Питоне послать письмо с влож...\n",
       "1  Stackoverflow  Как сохранить и восстановить базу данных Postg...\n",
       "2  Stackoverflow  Как найти файл по имени в папках командой из т...\n",
       "3  Stackoverflow    Как работать с svn через HTTP прокси на Ubuntu?\n",
       "4  Stackoverflow  Как подсчитать строки в файле из терминала в U..."
      ]
     },
     "execution_count": 30,
     "metadata": {},
     "output_type": "execute_result"
    }
   ],
   "source": [
    "df_stack_phrases.head()"
   ]
  },
  {
   "cell_type": "code",
   "execution_count": 31,
   "metadata": {},
   "outputs": [
    {
     "data": {
      "text/html": [
       "<div>\n",
       "<style scoped>\n",
       "    .dataframe tbody tr th:only-of-type {\n",
       "        vertical-align: middle;\n",
       "    }\n",
       "\n",
       "    .dataframe tbody tr th {\n",
       "        vertical-align: top;\n",
       "    }\n",
       "\n",
       "    .dataframe thead th {\n",
       "        text-align: right;\n",
       "    }\n",
       "</style>\n",
       "<table border=\"1\" class=\"dataframe\">\n",
       "  <thead>\n",
       "    <tr style=\"text-align: right;\">\n",
       "      <th></th>\n",
       "      <th>ids_questions</th>\n",
       "      <th>ids_accepted_answer</th>\n",
       "      <th>titles</th>\n",
       "      <th>tags</th>\n",
       "    </tr>\n",
       "  </thead>\n",
       "  <tbody>\n",
       "    <tr>\n",
       "      <th>0</th>\n",
       "      <td>1</td>\n",
       "      <td>2</td>\n",
       "      <td>Как из скрипта на Питоне послать письмо с влож...</td>\n",
       "      <td>python</td>\n",
       "    </tr>\n",
       "    <tr>\n",
       "      <th>1</th>\n",
       "      <td>3</td>\n",
       "      <td>4</td>\n",
       "      <td>Как сохранить и восстановить базу данных Postg...</td>\n",
       "      <td>no_tag</td>\n",
       "    </tr>\n",
       "    <tr>\n",
       "      <th>2</th>\n",
       "      <td>5</td>\n",
       "      <td>6</td>\n",
       "      <td>Как найти файл по имени в папках командой из т...</td>\n",
       "      <td>no_tag</td>\n",
       "    </tr>\n",
       "    <tr>\n",
       "      <th>3</th>\n",
       "      <td>7</td>\n",
       "      <td>8</td>\n",
       "      <td>Как работать с svn через HTTP прокси на Ubuntu?</td>\n",
       "      <td>no_tag</td>\n",
       "    </tr>\n",
       "    <tr>\n",
       "      <th>4</th>\n",
       "      <td>9</td>\n",
       "      <td>10</td>\n",
       "      <td>Как подсчитать строки в файле из терминала в U...</td>\n",
       "      <td>no_tag</td>\n",
       "    </tr>\n",
       "  </tbody>\n",
       "</table>\n",
       "</div>"
      ],
      "text/plain": [
       "   ids_questions  ids_accepted_answer  \\\n",
       "0              1                    2   \n",
       "1              3                    4   \n",
       "2              5                    6   \n",
       "3              7                    8   \n",
       "4              9                   10   \n",
       "\n",
       "                                              titles    tags  \n",
       "0  Как из скрипта на Питоне послать письмо с влож...  python  \n",
       "1  Как сохранить и восстановить базу данных Postg...  no_tag  \n",
       "2  Как найти файл по имени в папках командой из т...  no_tag  \n",
       "3    Как работать с svn через HTTP прокси на Ubuntu?  no_tag  \n",
       "4  Как подсчитать строки в файле из терминала в U...  no_tag  "
      ]
     },
     "execution_count": 31,
     "metadata": {},
     "output_type": "execute_result"
    }
   ],
   "source": [
    "df_stack_questions.head()"
   ]
  },
  {
   "cell_type": "code",
   "execution_count": 32,
   "metadata": {},
   "outputs": [
    {
     "data": {
      "text/html": [
       "<div>\n",
       "<style scoped>\n",
       "    .dataframe tbody tr th:only-of-type {\n",
       "        vertical-align: middle;\n",
       "    }\n",
       "\n",
       "    .dataframe tbody tr th {\n",
       "        vertical-align: top;\n",
       "    }\n",
       "\n",
       "    .dataframe thead th {\n",
       "        text-align: right;\n",
       "    }\n",
       "</style>\n",
       "<table border=\"1\" class=\"dataframe\">\n",
       "  <thead>\n",
       "    <tr style=\"text-align: right;\">\n",
       "      <th></th>\n",
       "      <th>ids_answers</th>\n",
       "      <th>ids_parent</th>\n",
       "      <th>answers</th>\n",
       "    </tr>\n",
       "  </thead>\n",
       "  <tbody>\n",
       "    <tr>\n",
       "      <th>0</th>\n",
       "      <td>2</td>\n",
       "      <td>1</td>\n",
       "      <td>from smtplib import SMTP_SSL\\nfrom email.MIMEM...</td>\n",
       "    </tr>\n",
       "    <tr>\n",
       "      <th>1</th>\n",
       "      <td>4</td>\n",
       "      <td>3</td>\n",
       "      <td>Для сохранения кластера базы данных:\\n\\npg_dum...</td>\n",
       "    </tr>\n",
       "    <tr>\n",
       "      <th>2</th>\n",
       "      <td>6</td>\n",
       "      <td>5</td>\n",
       "      <td>Для подобного поиска подходит команда find.\\n\\...</td>\n",
       "    </tr>\n",
       "    <tr>\n",
       "      <th>3</th>\n",
       "      <td>8</td>\n",
       "      <td>7</td>\n",
       "      <td>Нужно прописать параметры прокси в настройках ...</td>\n",
       "    </tr>\n",
       "    <tr>\n",
       "      <th>4</th>\n",
       "      <td>10</td>\n",
       "      <td>9</td>\n",
       "      <td>Команда wc выводит количество переводов строк,...</td>\n",
       "    </tr>\n",
       "  </tbody>\n",
       "</table>\n",
       "</div>"
      ],
      "text/plain": [
       "   ids_answers  ids_parent                                            answers\n",
       "0            2           1  from smtplib import SMTP_SSL\\nfrom email.MIMEM...\n",
       "1            4           3  Для сохранения кластера базы данных:\\n\\npg_dum...\n",
       "2            6           5  Для подобного поиска подходит команда find.\\n\\...\n",
       "3            8           7  Нужно прописать параметры прокси в настройках ...\n",
       "4           10           9  Команда wc выводит количество переводов строк,..."
      ]
     },
     "execution_count": 32,
     "metadata": {},
     "output_type": "execute_result"
    }
   ],
   "source": [
    "df_stack_answers.head()"
   ]
  },
  {
   "cell_type": "markdown",
   "metadata": {},
   "source": [
    "# Ответы mail.ru"
   ]
  },
  {
   "cell_type": "markdown",
   "metadata": {},
   "source": [
    "# Функция извлечения всех данных из ответов mail.ru"
   ]
  },
  {
   "cell_type": "markdown",
   "metadata": {},
   "source": [
    "### Принимает дамп, возвращает словарь в формате: {\"sources\": \"Ответы mail.ru\", \"phrases\": phrases}"
   ]
  },
  {
   "cell_type": "code",
   "execution_count": 33,
   "metadata": {},
   "outputs": [],
   "source": [
    "def extract_data_mail_ans(filename):\n",
    "    text = []\n",
    "    with open(filename, mode='r') as f:\n",
    "        for line in f:\n",
    "            if line == '\\n' or line == '---\\n':\n",
    "                continue\n",
    "            text.append(line[:-2])\n",
    "    text = {\"sources\": [\"Ответы mail.ru\"] * len(text), \n",
    "            \"phrases\": text}\n",
    "    return text"
   ]
  },
  {
   "cell_type": "markdown",
   "metadata": {},
   "source": [
    "# Функция извлечения вопросов и ответов (1-ого ответа на данный вопрос) для ответов mail.ru"
   ]
  },
  {
   "cell_type": "markdown",
   "metadata": {},
   "source": [
    "### Принимает дамп, возвращает словарь в формате из списков вопросов и ответов (1-ого ответа на данный вопрос)"
   ]
  },
  {
   "cell_type": "code",
   "execution_count": 34,
   "metadata": {},
   "outputs": [],
   "source": [
    "def extract_quest_ans_from_mail_ans(filename):\n",
    "    questions = []\n",
    "    answers = []\n",
    "    with open(filename, mode='r') as f:\n",
    "        q = 0\n",
    "        a = 0\n",
    "        for line in f:\n",
    "            if line == \"\\n\" or line == \"---\\n\":\n",
    "                if q == 1 and a == 0:\n",
    "                    answers.append(\"Нет ответа\")\n",
    "                q = 0\n",
    "                a = 0\n",
    "                continue\n",
    "            if a == 1:\n",
    "                continue\n",
    "            if q == 1:\n",
    "                answers.append(line[:-2])\n",
    "                a = 1\n",
    "                continue\n",
    "            questions.append(line[:-2])\n",
    "            q = 1\n",
    "    quest_ans = {\"questions\": questions, \n",
    "                 \"answers\": answers}\n",
    "    return quest_ans"
   ]
  },
  {
   "cell_type": "markdown",
   "metadata": {},
   "source": [
    "### Путь к дампу ответов mail.ru"
   ]
  },
  {
   "cell_type": "code",
   "execution_count": 35,
   "metadata": {},
   "outputs": [],
   "source": [
    "path = \"mail_answers/\"\n",
    "filename = \"Otvety.txt\"\n",
    "filename = path + filename"
   ]
  },
  {
   "cell_type": "markdown",
   "metadata": {},
   "source": [
    "### Извлечем данные ответов mail.ru в словари"
   ]
  },
  {
   "cell_type": "code",
   "execution_count": 36,
   "metadata": {},
   "outputs": [],
   "source": [
    "data_from_mail_ans = extract_data_mail_ans(filename)"
   ]
  },
  {
   "cell_type": "code",
   "execution_count": 37,
   "metadata": {},
   "outputs": [],
   "source": [
    "quest_ans_from_mail_ans = extract_quest_ans_from_mail_ans(filename)"
   ]
  },
  {
   "cell_type": "markdown",
   "metadata": {},
   "source": [
    "### Создадим датафреймы"
   ]
  },
  {
   "cell_type": "code",
   "execution_count": 38,
   "metadata": {},
   "outputs": [],
   "source": [
    "df_data_mail_ans = pd.DataFrame(data_from_mail_ans)\n",
    "df_quest_ans_mail_ans = pd.DataFrame(quest_ans_from_mail_ans)"
   ]
  },
  {
   "cell_type": "code",
   "execution_count": 39,
   "metadata": {},
   "outputs": [
    {
     "data": {
      "text/html": [
       "<div>\n",
       "<style scoped>\n",
       "    .dataframe tbody tr th:only-of-type {\n",
       "        vertical-align: middle;\n",
       "    }\n",
       "\n",
       "    .dataframe tbody tr th {\n",
       "        vertical-align: top;\n",
       "    }\n",
       "\n",
       "    .dataframe thead th {\n",
       "        text-align: right;\n",
       "    }\n",
       "</style>\n",
       "<table border=\"1\" class=\"dataframe\">\n",
       "  <thead>\n",
       "    <tr style=\"text-align: right;\">\n",
       "      <th></th>\n",
       "      <th>sources</th>\n",
       "      <th>phrases</th>\n",
       "    </tr>\n",
       "  </thead>\n",
       "  <tbody>\n",
       "    <tr>\n",
       "      <th>0</th>\n",
       "      <td>Ответы mail.ru</td>\n",
       "      <td>вопрос о ТДВ)) давно и хорошо отдыхаем)) ЛИЧНО...</td>\n",
       "    </tr>\n",
       "    <tr>\n",
       "      <th>1</th>\n",
       "      <td>Ответы mail.ru</td>\n",
       "      <td>хомячка....</td>\n",
       "    </tr>\n",
       "    <tr>\n",
       "      <th>2</th>\n",
       "      <td>Ответы mail.ru</td>\n",
       "      <td>мужика, йопаря, собачку и 50 кошек))).</td>\n",
       "    </tr>\n",
       "    <tr>\n",
       "      <th>3</th>\n",
       "      <td>Ответы mail.ru</td>\n",
       "      <td>Общение !).</td>\n",
       "    </tr>\n",
       "    <tr>\n",
       "      <th>4</th>\n",
       "      <td>Ответы mail.ru</td>\n",
       "      <td>паучка.</td>\n",
       "    </tr>\n",
       "  </tbody>\n",
       "</table>\n",
       "</div>"
      ],
      "text/plain": [
       "          sources                                            phrases\n",
       "0  Ответы mail.ru  вопрос о ТДВ)) давно и хорошо отдыхаем)) ЛИЧНО...\n",
       "1  Ответы mail.ru                                        хомячка....\n",
       "2  Ответы mail.ru             мужика, йопаря, собачку и 50 кошек))).\n",
       "3  Ответы mail.ru                                        Общение !).\n",
       "4  Ответы mail.ru                                            паучка."
      ]
     },
     "execution_count": 39,
     "metadata": {},
     "output_type": "execute_result"
    }
   ],
   "source": [
    "df_data_mail_ans.head()"
   ]
  },
  {
   "cell_type": "code",
   "execution_count": 40,
   "metadata": {},
   "outputs": [
    {
     "data": {
      "text/html": [
       "<div>\n",
       "<style scoped>\n",
       "    .dataframe tbody tr th:only-of-type {\n",
       "        vertical-align: middle;\n",
       "    }\n",
       "\n",
       "    .dataframe tbody tr th {\n",
       "        vertical-align: top;\n",
       "    }\n",
       "\n",
       "    .dataframe thead th {\n",
       "        text-align: right;\n",
       "    }\n",
       "</style>\n",
       "<table border=\"1\" class=\"dataframe\">\n",
       "  <thead>\n",
       "    <tr style=\"text-align: right;\">\n",
       "      <th></th>\n",
       "      <th>questions</th>\n",
       "      <th>answers</th>\n",
       "    </tr>\n",
       "  </thead>\n",
       "  <tbody>\n",
       "    <tr>\n",
       "      <th>0</th>\n",
       "      <td>вопрос о ТДВ)) давно и хорошо отдыхаем)) ЛИЧНО...</td>\n",
       "      <td>хомячка....</td>\n",
       "    </tr>\n",
       "    <tr>\n",
       "      <th>1</th>\n",
       "      <td>Как парни относятся к цветным линзам? Если у д...</td>\n",
       "      <td>меня вобще прикалывает эта тема :).</td>\n",
       "    </tr>\n",
       "    <tr>\n",
       "      <th>2</th>\n",
       "      <td>Что делать, сегодня нашёл 2 миллиона рублей? .</td>\n",
       "      <td>Если это \"счастье \" действительно на вас свали...</td>\n",
       "    </tr>\n",
       "    <tr>\n",
       "      <th>3</th>\n",
       "      <td>Эбу в двенашке называется Итэлма что за эбу? .</td>\n",
       "      <td>ЭБУ — электронный блок управления двигателем а...</td>\n",
       "    </tr>\n",
       "    <tr>\n",
       "      <th>4</th>\n",
       "      <td>академия вампиров. сколько на даный момент час...</td>\n",
       "      <td>4. Охотники и Жертвы, Ледяной укус, Поцелуй ть...</td>\n",
       "    </tr>\n",
       "  </tbody>\n",
       "</table>\n",
       "</div>"
      ],
      "text/plain": [
       "                                           questions  \\\n",
       "0  вопрос о ТДВ)) давно и хорошо отдыхаем)) ЛИЧНО...   \n",
       "1  Как парни относятся к цветным линзам? Если у д...   \n",
       "2     Что делать, сегодня нашёл 2 миллиона рублей? .   \n",
       "3     Эбу в двенашке называется Итэлма что за эбу? .   \n",
       "4  академия вампиров. сколько на даный момент час...   \n",
       "\n",
       "                                             answers  \n",
       "0                                        хомячка....  \n",
       "1                меня вобще прикалывает эта тема :).  \n",
       "2  Если это \"счастье \" действительно на вас свали...  \n",
       "3  ЭБУ — электронный блок управления двигателем а...  \n",
       "4  4. Охотники и Жертвы, Ледяной укус, Поцелуй ть...  "
      ]
     },
     "execution_count": 40,
     "metadata": {},
     "output_type": "execute_result"
    }
   ],
   "source": [
    "df_quest_ans_mail_ans.head()"
   ]
  },
  {
   "cell_type": "markdown",
   "metadata": {},
   "source": [
    "### Сохраним датафреймы"
   ]
  },
  {
   "cell_type": "code",
   "execution_count": 44,
   "metadata": {},
   "outputs": [],
   "source": [
    "pd.DataFrame({'sources': df_data_mail_ans.sources, \n",
    "              'phrases': df_data_mail_ans.phrases}).to_csv('all_data_from_mail.csv', index=None)\n",
    "\n",
    "pd.DataFrame({'questions': df_quest_ans_mail_ans.questions, \n",
    "              'answers': df_quest_ans_mail_ans.answers}).to_csv('quest_ans_from_mail.csv', index=None)"
   ]
  },
  {
   "cell_type": "markdown",
   "metadata": {},
   "source": [
    "### Загрузим датафреймы "
   ]
  },
  {
   "cell_type": "code",
   "execution_count": 8,
   "metadata": {},
   "outputs": [],
   "source": [
    "df_data_mail_ans = pd.read_csv('all_data_from_mail.csv')\n",
    "df_quest_ans_mail_ans = pd.read_csv('quest_ans_from_mail.csv')"
   ]
  },
  {
   "cell_type": "code",
   "execution_count": 9,
   "metadata": {},
   "outputs": [
    {
     "data": {
      "text/html": [
       "<div>\n",
       "<style scoped>\n",
       "    .dataframe tbody tr th:only-of-type {\n",
       "        vertical-align: middle;\n",
       "    }\n",
       "\n",
       "    .dataframe tbody tr th {\n",
       "        vertical-align: top;\n",
       "    }\n",
       "\n",
       "    .dataframe thead th {\n",
       "        text-align: right;\n",
       "    }\n",
       "</style>\n",
       "<table border=\"1\" class=\"dataframe\">\n",
       "  <thead>\n",
       "    <tr style=\"text-align: right;\">\n",
       "      <th></th>\n",
       "      <th>sources</th>\n",
       "      <th>phrases</th>\n",
       "    </tr>\n",
       "  </thead>\n",
       "  <tbody>\n",
       "    <tr>\n",
       "      <th>0</th>\n",
       "      <td>Ответы mail.ru</td>\n",
       "      <td>вопрос о ТДВ)) давно и хорошо отдыхаем)) ЛИЧНО...</td>\n",
       "    </tr>\n",
       "    <tr>\n",
       "      <th>1</th>\n",
       "      <td>Ответы mail.ru</td>\n",
       "      <td>хомячка....</td>\n",
       "    </tr>\n",
       "    <tr>\n",
       "      <th>2</th>\n",
       "      <td>Ответы mail.ru</td>\n",
       "      <td>мужика, йопаря, собачку и 50 кошек))).</td>\n",
       "    </tr>\n",
       "    <tr>\n",
       "      <th>3</th>\n",
       "      <td>Ответы mail.ru</td>\n",
       "      <td>Общение !).</td>\n",
       "    </tr>\n",
       "    <tr>\n",
       "      <th>4</th>\n",
       "      <td>Ответы mail.ru</td>\n",
       "      <td>паучка.</td>\n",
       "    </tr>\n",
       "  </tbody>\n",
       "</table>\n",
       "</div>"
      ],
      "text/plain": [
       "          sources                                            phrases\n",
       "0  Ответы mail.ru  вопрос о ТДВ)) давно и хорошо отдыхаем)) ЛИЧНО...\n",
       "1  Ответы mail.ru                                        хомячка....\n",
       "2  Ответы mail.ru             мужика, йопаря, собачку и 50 кошек))).\n",
       "3  Ответы mail.ru                                        Общение !).\n",
       "4  Ответы mail.ru                                            паучка."
      ]
     },
     "execution_count": 9,
     "metadata": {},
     "output_type": "execute_result"
    }
   ],
   "source": [
    "df_data_mail_ans.head()"
   ]
  },
  {
   "cell_type": "code",
   "execution_count": 10,
   "metadata": {},
   "outputs": [
    {
     "data": {
      "text/html": [
       "<div>\n",
       "<style scoped>\n",
       "    .dataframe tbody tr th:only-of-type {\n",
       "        vertical-align: middle;\n",
       "    }\n",
       "\n",
       "    .dataframe tbody tr th {\n",
       "        vertical-align: top;\n",
       "    }\n",
       "\n",
       "    .dataframe thead th {\n",
       "        text-align: right;\n",
       "    }\n",
       "</style>\n",
       "<table border=\"1\" class=\"dataframe\">\n",
       "  <thead>\n",
       "    <tr style=\"text-align: right;\">\n",
       "      <th></th>\n",
       "      <th>questions</th>\n",
       "      <th>answers</th>\n",
       "    </tr>\n",
       "  </thead>\n",
       "  <tbody>\n",
       "    <tr>\n",
       "      <th>0</th>\n",
       "      <td>вопрос о ТДВ)) давно и хорошо отдыхаем)) ЛИЧНО...</td>\n",
       "      <td>хомячка....</td>\n",
       "    </tr>\n",
       "    <tr>\n",
       "      <th>1</th>\n",
       "      <td>Как парни относятся к цветным линзам? Если у д...</td>\n",
       "      <td>меня вобще прикалывает эта тема :).</td>\n",
       "    </tr>\n",
       "    <tr>\n",
       "      <th>2</th>\n",
       "      <td>Что делать, сегодня нашёл 2 миллиона рублей? .</td>\n",
       "      <td>Если это \"счастье \" действительно на вас свали...</td>\n",
       "    </tr>\n",
       "    <tr>\n",
       "      <th>3</th>\n",
       "      <td>Эбу в двенашке называется Итэлма что за эбу? .</td>\n",
       "      <td>ЭБУ — электронный блок управления двигателем а...</td>\n",
       "    </tr>\n",
       "    <tr>\n",
       "      <th>4</th>\n",
       "      <td>академия вампиров. сколько на даный момент час...</td>\n",
       "      <td>4. Охотники и Жертвы, Ледяной укус, Поцелуй ть...</td>\n",
       "    </tr>\n",
       "  </tbody>\n",
       "</table>\n",
       "</div>"
      ],
      "text/plain": [
       "                                           questions  \\\n",
       "0  вопрос о ТДВ)) давно и хорошо отдыхаем)) ЛИЧНО...   \n",
       "1  Как парни относятся к цветным линзам? Если у д...   \n",
       "2     Что делать, сегодня нашёл 2 миллиона рублей? .   \n",
       "3     Эбу в двенашке называется Итэлма что за эбу? .   \n",
       "4  академия вампиров. сколько на даный момент час...   \n",
       "\n",
       "                                             answers  \n",
       "0                                        хомячка....  \n",
       "1                меня вобще прикалывает эта тема :).  \n",
       "2  Если это \"счастье \" действительно на вас свали...  \n",
       "3  ЭБУ — электронный блок управления двигателем а...  \n",
       "4  4. Охотники и Жертвы, Ледяной укус, Поцелуй ть...  "
      ]
     },
     "execution_count": 10,
     "metadata": {},
     "output_type": "execute_result"
    }
   ],
   "source": [
    "df_quest_ans_mail_ans.head()"
   ]
  },
  {
   "cell_type": "code",
   "execution_count": 11,
   "metadata": {},
   "outputs": [
    {
     "data": {
      "text/plain": [
       "1163270"
      ]
     },
     "execution_count": 11,
     "metadata": {},
     "output_type": "execute_result"
    }
   ],
   "source": [
    "len(df_quest_ans_mail_ans)"
   ]
  },
  {
   "cell_type": "code",
   "execution_count": 12,
   "metadata": {},
   "outputs": [],
   "source": [
    "df_ids = pd.DataFrame({\"id\": [i + 1 for i in range(len(df_quest_ans_mail_ans))]})"
   ]
  },
  {
   "cell_type": "code",
   "execution_count": 13,
   "metadata": {},
   "outputs": [],
   "source": [
    "df_ids[\"questions\"]  = df_quest_ans_mail_ans[\"questions\"] \n",
    "df_ids[\"answers\"] = df_quest_ans_mail_ans[\"answers\"]\n",
    "df_quest_ans_mail_ans = df_ids"
   ]
  },
  {
   "cell_type": "code",
   "execution_count": 24,
   "metadata": {},
   "outputs": [
    {
     "data": {
      "text/html": [
       "<div>\n",
       "<style scoped>\n",
       "    .dataframe tbody tr th:only-of-type {\n",
       "        vertical-align: middle;\n",
       "    }\n",
       "\n",
       "    .dataframe tbody tr th {\n",
       "        vertical-align: top;\n",
       "    }\n",
       "\n",
       "    .dataframe thead th {\n",
       "        text-align: right;\n",
       "    }\n",
       "</style>\n",
       "<table border=\"1\" class=\"dataframe\">\n",
       "  <thead>\n",
       "    <tr style=\"text-align: right;\">\n",
       "      <th></th>\n",
       "      <th>id</th>\n",
       "      <th>answers</th>\n",
       "    </tr>\n",
       "  </thead>\n",
       "  <tbody>\n",
       "    <tr>\n",
       "      <th>0</th>\n",
       "      <td>1</td>\n",
       "      <td>хомячка....</td>\n",
       "    </tr>\n",
       "    <tr>\n",
       "      <th>1</th>\n",
       "      <td>2</td>\n",
       "      <td>меня вобще прикалывает эта тема :).</td>\n",
       "    </tr>\n",
       "    <tr>\n",
       "      <th>2</th>\n",
       "      <td>3</td>\n",
       "      <td>Если это \"счастье \" действительно на вас свали...</td>\n",
       "    </tr>\n",
       "    <tr>\n",
       "      <th>3</th>\n",
       "      <td>4</td>\n",
       "      <td>ЭБУ — электронный блок управления двигателем а...</td>\n",
       "    </tr>\n",
       "    <tr>\n",
       "      <th>4</th>\n",
       "      <td>5</td>\n",
       "      <td>4. Охотники и Жертвы, Ледяной укус, Поцелуй ть...</td>\n",
       "    </tr>\n",
       "  </tbody>\n",
       "</table>\n",
       "</div>"
      ],
      "text/plain": [
       "   id                                            answers\n",
       "0   1                                        хомячка....\n",
       "1   2                меня вобще прикалывает эта тема :).\n",
       "2   3  Если это \"счастье \" действительно на вас свали...\n",
       "3   4  ЭБУ — электронный блок управления двигателем а...\n",
       "4   5  4. Охотники и Жертвы, Ледяной укус, Поцелуй ть..."
      ]
     },
     "execution_count": 24,
     "metadata": {},
     "output_type": "execute_result"
    }
   ],
   "source": [
    "df_quest_ans_mail_ans.head()"
   ]
  },
  {
   "cell_type": "code",
   "execution_count": 21,
   "metadata": {},
   "outputs": [
    {
     "data": {
      "text/plain": [
       "'be a fan of, support, root forНе знаю )))root for самое оно на мой взглядI root for...I shall keep my fingers crossed for....'"
      ]
     },
     "execution_count": 21,
     "metadata": {},
     "output_type": "execute_result"
    }
   ],
   "source": [
    "BeautifulSoup(df_quest_ans_mail_ans[df_quest_ans_mail_ans[\"id\"]==690378]['answers'].values[0], \"lxml\").text"
   ]
  },
  {
   "cell_type": "code",
   "execution_count": 23,
   "metadata": {},
   "outputs": [],
   "source": [
    "df_quest_ans_mail_ans = df_quest_ans_mail_ans.drop(columns=\"questions\")"
   ]
  },
  {
   "cell_type": "code",
   "execution_count": 25,
   "metadata": {},
   "outputs": [],
   "source": [
    "df_quest_ans_mail_ans.to_csv('quest_ans_from_mail_2.csv', index=None)"
   ]
  },
  {
   "cell_type": "markdown",
   "metadata": {},
   "source": [
    "# Модель (http://zabaykin.ru/?p=558)"
   ]
  },
  {
   "cell_type": "code",
   "execution_count": null,
   "metadata": {},
   "outputs": [],
   "source": [
    "from sklearn.feature_extraction.text import TfidfVectorizer\n",
    "from sklearn.ensemble import RandomForestClassifier\n",
    "from sklearn.pipeline import Pipeline"
   ]
  },
  {
   "cell_type": "code",
   "execution_count": null,
   "metadata": {},
   "outputs": [],
   "source": [
    "text_clf = Pipeline([('tfidf', TfidfVectorizer()), \n",
    "                     ('clf', RandomForestClassifier())])"
   ]
  },
  {
   "cell_type": "markdown",
   "metadata": {},
   "source": [
    "### Обучение"
   ]
  },
  {
   "cell_type": "code",
   "execution_count": null,
   "metadata": {},
   "outputs": [],
   "source": [
    "text_clf.fit(df.norm_phrases, df.classes)"
   ]
  },
  {
   "cell_type": "markdown",
   "metadata": {},
   "source": [
    "### Предсказание"
   ]
  },
  {
   "cell_type": "code",
   "execution_count": null,
   "metadata": {},
   "outputs": [],
   "source": [
    "def text_normalize(text):\n",
    "    text = text.split()\n",
    "    translator = str.maketrans('', '', string.punctuation)\n",
    "    true_text = []\n",
    "    for word in text:\n",
    "        true_word = word.translate(translator).lower()\n",
    "        if len(true_word) == 0:\n",
    "            continue\n",
    "        true_text.append(true_word)\n",
    "    return \" \".join(true_text)        "
   ]
  },
  {
   "cell_type": "code",
   "execution_count": null,
   "metadata": {},
   "outputs": [],
   "source": [
    "joke_pattern = r'''(?: *)(анекдот)'''"
   ]
  },
  {
   "cell_type": "code",
   "execution_count": null,
   "metadata": {},
   "outputs": [],
   "source": [
    "text = \"\""
   ]
  },
  {
   "cell_type": "code",
   "execution_count": null,
   "metadata": {},
   "outputs": [],
   "source": [
    "text = text_normalize(text)\n",
    "text"
   ]
  },
  {
   "cell_type": "code",
   "execution_count": null,
   "metadata": {},
   "outputs": [],
   "source": [
    "print(re.search(joke_pattern, text))"
   ]
  },
  {
   "cell_type": "code",
   "execution_count": null,
   "metadata": {},
   "outputs": [],
   "source": [
    "res = text_clf.predict([text])\n",
    "print(res)"
   ]
  },
  {
   "cell_type": "code",
   "execution_count": null,
   "metadata": {},
   "outputs": [],
   "source": []
  }
 ],
 "metadata": {
  "kernelspec": {
   "display_name": "Python 3",
   "language": "python",
   "name": "python3"
  },
  "language_info": {
   "codemirror_mode": {
    "name": "ipython",
    "version": 3
   },
   "file_extension": ".py",
   "mimetype": "text/x-python",
   "name": "python",
   "nbconvert_exporter": "python",
   "pygments_lexer": "ipython3",
   "version": "3.6.4"
  }
 },
 "nbformat": 4,
 "nbformat_minor": 2
}
